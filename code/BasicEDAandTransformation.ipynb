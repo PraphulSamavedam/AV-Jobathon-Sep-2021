{
 "cells": [
  {
   "cell_type": "code",
   "execution_count": 1,
   "metadata": {},
   "outputs": [],
   "source": [
    "import pandas as pd\n",
    "import seaborn as sns\n",
    "import matplotlib.pyplot as plt\n",
    "%matplotlib inline"
   ]
  },
  {
   "cell_type": "code",
   "execution_count": 2,
   "metadata": {},
   "outputs": [],
   "source": [
    "train_data = pd.read_csv(\"../data/train.csv\")\n",
    "test_data = pd.read_csv(\"../data/test.csv\")"
   ]
  },
  {
   "cell_type": "code",
   "execution_count": 3,
   "metadata": {},
   "outputs": [
    {
     "data": {
      "text/plain": [
       "(ID                object\n",
       " Store_id           int64\n",
       " Store_Type        object\n",
       " Location_Type     object\n",
       " Region_Code       object\n",
       " Date              object\n",
       " Holiday            int64\n",
       " Discount          object\n",
       " #Order             int64\n",
       " Sales            float64\n",
       " dtype: object,\n",
       " (188340, 10),\n",
       " ID               object\n",
       " Store_id          int64\n",
       " Store_Type       object\n",
       " Location_Type    object\n",
       " Region_Code      object\n",
       " Date             object\n",
       " Holiday           int64\n",
       " Discount         object\n",
       " dtype: object,\n",
       " (22265, 8))"
      ]
     },
     "execution_count": 3,
     "metadata": {},
     "output_type": "execute_result"
    }
   ],
   "source": [
    "train_data.dtypes, train_data.shape, test_data.dtypes, test_data.shape"
   ]
  },
  {
   "cell_type": "code",
   "execution_count": 4,
   "metadata": {},
   "outputs": [
    {
     "name": "stdout",
     "output_type": "stream",
     "text": [
      "<class 'pandas.core.frame.DataFrame'>\n",
      "RangeIndex: 188340 entries, 0 to 188339\n",
      "Data columns (total 10 columns):\n",
      " #   Column         Non-Null Count   Dtype  \n",
      "---  ------         --------------   -----  \n",
      " 0   ID             188340 non-null  object \n",
      " 1   Store_id       188340 non-null  int64  \n",
      " 2   Store_Type     188340 non-null  object \n",
      " 3   Location_Type  188340 non-null  object \n",
      " 4   Region_Code    188340 non-null  object \n",
      " 5   Date           188340 non-null  object \n",
      " 6   Holiday        188340 non-null  int64  \n",
      " 7   Discount       188340 non-null  object \n",
      " 8   #Order         188340 non-null  int64  \n",
      " 9   Sales          188340 non-null  float64\n",
      "dtypes: float64(1), int64(3), object(6)\n",
      "memory usage: 14.4+ MB\n"
     ]
    },
    {
     "data": {
      "text/plain": [
       "(         ID  Store_id Store_Type Location_Type Region_Code        Date  \\\n",
       " 0  T1000001         1         S1            L3          R1  2018-01-01   \n",
       " 1  T1000002       253         S4            L2          R1  2018-01-01   \n",
       " 2  T1000003       252         S3            L2          R1  2018-01-01   \n",
       " 3  T1000004       251         S2            L3          R1  2018-01-01   \n",
       " 4  T1000005       250         S2            L3          R4  2018-01-01   \n",
       " \n",
       "    Holiday Discount  #Order     Sales  \n",
       " 0        1      Yes       9   7011.84  \n",
       " 1        1      Yes      60  51789.12  \n",
       " 2        1      Yes      42  36868.20  \n",
       " 3        1      Yes      23  19715.16  \n",
       " 4        1      Yes      62  45614.52  ,\n",
       " None)"
      ]
     },
     "execution_count": 4,
     "metadata": {},
     "output_type": "execute_result"
    }
   ],
   "source": [
    "train_data.head(5), train_data.info()\n",
    "# [train_data[\"Store_Type\"].unique()] # 4 records S1, S2, S3, S4\n",
    "# [train_data[\"Region_Code\"].unique()] # 4 records R1, R2, R3, R4\n",
    "# [train_data[\"Location_Type\"].unique()] # 5 records L1, L2, L3, L4, L5"
   ]
  },
  {
   "cell_type": "code",
   "execution_count": 5,
   "metadata": {},
   "outputs": [],
   "source": [
    "# from pandas_profiling import ProfileReport\n",
    "# profile = ProfileReport(train_data, title=\"Pandas Profiling Report\")\n",
    "# profile.to_widgets()"
   ]
  },
  {
   "cell_type": "markdown",
   "metadata": {},
   "source": [
    "### Based on data profile\n",
    "* No missing data in any feature\n",
    "* ID is really unique identifier --> Hence can be used as index\n",
    "* Store_Type, Region_type, Location_Type and Region_Code are categorical variables\n",
    "* Holiday and Discount can be made boolean based.\n",
    "* Sales are distributed like bell-curve."
   ]
  },
  {
   "cell_type": "code",
   "execution_count": 6,
   "metadata": {},
   "outputs": [],
   "source": [
    "train_data.set_index(\"ID\",inplace=True)\n",
    "test_data.set_index(\"ID\",inplace=True)\n",
    "\n",
    "bool_int_map={True:1, False:0}\n",
    "\n",
    "# #Order column is missing in the input test data. Hence this data will be missing\n",
    "train_data[\"Date\"] = pd.to_datetime(train_data.Date,format=\"%Y-%m-%d\")\n",
    "test_data[\"Date\"] = pd.to_datetime(test_data.Date,format=\"%Y-%m-%d\")\n",
    "\n",
    "# Is the day a weekend?\n",
    "train_data[\"dayofweek\"]=train_data[\"Date\"].dt.dayofweek\n",
    "test_data[\"dayofweek\"]=test_data[\"Date\"].dt.dayofweek\n",
    "train_data[\"weekend\"] = train_data[\"dayofweek\"]>=5\n",
    "test_data[\"weekend\"] = test_data[\"dayofweek\"]>=5\n",
    "train_data.drop('dayofweek', inplace=True, axis=1)\n",
    "test_data.drop('dayofweek', inplace=True, axis=1)\n",
    "\n",
    "train_data[\"weekend\"] = train_data[\"weekend\"].map(bool_int_map)\n",
    "test_data[\"weekend\"] = test_data[\"weekend\"].map(bool_int_map)\n",
    "\n",
    "# train_data[\"quarter\"]=train_data[\"Date\"].dt.quarter\n",
    "# test_data[\"quarter\"]=test_data[\"Date\"].dt.quarter\n",
    "\n",
    "# train_data[\"Date\"] = train_data[\"Date\"].dt.date\n",
    "# test_data[\"Date\"] = test_data[\"Date\"].dt.date\n",
    "# # holiday_map = {0:False, 1:True}\n",
    "# train_data[\"Holiday\"] = train_data[\"Holiday\"].map(holiday_map)\n",
    "# test_data[\"Holiday\"] = test_data[\"Holiday\"].map(holiday_map)\n",
    "\n",
    "discount_map = {\"Yes\":1, \"No\":0}\n",
    "train_data[\"Discount\"] = train_data[\"Discount\"].map(discount_map)\n",
    "test_data[\"Discount\"] = test_data[\"Discount\"].map(discount_map)\n",
    "\n",
    "categ_fts =[ 'Store_Type', 'Location_Type', 'Region_Code']\n",
    "for ft in categ_fts:\n",
    "    train_data[ft] = train_data[ft].astype(\"category\")\n",
    "    test_data[ft] = test_data[ft].astype(\"category\")\n"
   ]
  },
  {
   "cell_type": "code",
   "execution_count": 7,
   "metadata": {},
   "outputs": [
    {
     "data": {
      "text/html": [
       "<div>\n",
       "<style scoped>\n",
       "    .dataframe tbody tr th:only-of-type {\n",
       "        vertical-align: middle;\n",
       "    }\n",
       "\n",
       "    .dataframe tbody tr th {\n",
       "        vertical-align: top;\n",
       "    }\n",
       "\n",
       "    .dataframe thead th {\n",
       "        text-align: right;\n",
       "    }\n",
       "</style>\n",
       "<table border=\"1\" class=\"dataframe\">\n",
       "  <thead>\n",
       "    <tr style=\"text-align: right;\">\n",
       "      <th></th>\n",
       "      <th>Store_id</th>\n",
       "      <th>Store_Type</th>\n",
       "      <th>Location_Type</th>\n",
       "      <th>Region_Code</th>\n",
       "      <th>Date</th>\n",
       "      <th>Holiday</th>\n",
       "      <th>Discount</th>\n",
       "      <th>#Order</th>\n",
       "      <th>Sales</th>\n",
       "      <th>weekend</th>\n",
       "    </tr>\n",
       "    <tr>\n",
       "      <th>ID</th>\n",
       "      <th></th>\n",
       "      <th></th>\n",
       "      <th></th>\n",
       "      <th></th>\n",
       "      <th></th>\n",
       "      <th></th>\n",
       "      <th></th>\n",
       "      <th></th>\n",
       "      <th></th>\n",
       "      <th></th>\n",
       "    </tr>\n",
       "  </thead>\n",
       "  <tbody>\n",
       "    <tr>\n",
       "      <th>T1000001</th>\n",
       "      <td>1</td>\n",
       "      <td>S1</td>\n",
       "      <td>L3</td>\n",
       "      <td>R1</td>\n",
       "      <td>2018-01-01</td>\n",
       "      <td>1</td>\n",
       "      <td>1</td>\n",
       "      <td>9</td>\n",
       "      <td>7011.84</td>\n",
       "      <td>0</td>\n",
       "    </tr>\n",
       "    <tr>\n",
       "      <th>T1000002</th>\n",
       "      <td>253</td>\n",
       "      <td>S4</td>\n",
       "      <td>L2</td>\n",
       "      <td>R1</td>\n",
       "      <td>2018-01-01</td>\n",
       "      <td>1</td>\n",
       "      <td>1</td>\n",
       "      <td>60</td>\n",
       "      <td>51789.12</td>\n",
       "      <td>0</td>\n",
       "    </tr>\n",
       "    <tr>\n",
       "      <th>T1000003</th>\n",
       "      <td>252</td>\n",
       "      <td>S3</td>\n",
       "      <td>L2</td>\n",
       "      <td>R1</td>\n",
       "      <td>2018-01-01</td>\n",
       "      <td>1</td>\n",
       "      <td>1</td>\n",
       "      <td>42</td>\n",
       "      <td>36868.20</td>\n",
       "      <td>0</td>\n",
       "    </tr>\n",
       "    <tr>\n",
       "      <th>T1000004</th>\n",
       "      <td>251</td>\n",
       "      <td>S2</td>\n",
       "      <td>L3</td>\n",
       "      <td>R1</td>\n",
       "      <td>2018-01-01</td>\n",
       "      <td>1</td>\n",
       "      <td>1</td>\n",
       "      <td>23</td>\n",
       "      <td>19715.16</td>\n",
       "      <td>0</td>\n",
       "    </tr>\n",
       "    <tr>\n",
       "      <th>T1000005</th>\n",
       "      <td>250</td>\n",
       "      <td>S2</td>\n",
       "      <td>L3</td>\n",
       "      <td>R4</td>\n",
       "      <td>2018-01-01</td>\n",
       "      <td>1</td>\n",
       "      <td>1</td>\n",
       "      <td>62</td>\n",
       "      <td>45614.52</td>\n",
       "      <td>0</td>\n",
       "    </tr>\n",
       "    <tr>\n",
       "      <th>...</th>\n",
       "      <td>...</td>\n",
       "      <td>...</td>\n",
       "      <td>...</td>\n",
       "      <td>...</td>\n",
       "      <td>...</td>\n",
       "      <td>...</td>\n",
       "      <td>...</td>\n",
       "      <td>...</td>\n",
       "      <td>...</td>\n",
       "      <td>...</td>\n",
       "    </tr>\n",
       "    <tr>\n",
       "      <th>T1188336</th>\n",
       "      <td>149</td>\n",
       "      <td>S2</td>\n",
       "      <td>L3</td>\n",
       "      <td>R2</td>\n",
       "      <td>2019-05-31</td>\n",
       "      <td>1</td>\n",
       "      <td>1</td>\n",
       "      <td>51</td>\n",
       "      <td>37272.00</td>\n",
       "      <td>0</td>\n",
       "    </tr>\n",
       "    <tr>\n",
       "      <th>T1188337</th>\n",
       "      <td>153</td>\n",
       "      <td>S4</td>\n",
       "      <td>L2</td>\n",
       "      <td>R1</td>\n",
       "      <td>2019-05-31</td>\n",
       "      <td>1</td>\n",
       "      <td>0</td>\n",
       "      <td>90</td>\n",
       "      <td>54572.64</td>\n",
       "      <td>0</td>\n",
       "    </tr>\n",
       "    <tr>\n",
       "      <th>T1188338</th>\n",
       "      <td>154</td>\n",
       "      <td>S1</td>\n",
       "      <td>L3</td>\n",
       "      <td>R2</td>\n",
       "      <td>2019-05-31</td>\n",
       "      <td>1</td>\n",
       "      <td>0</td>\n",
       "      <td>56</td>\n",
       "      <td>31624.56</td>\n",
       "      <td>0</td>\n",
       "    </tr>\n",
       "    <tr>\n",
       "      <th>T1188339</th>\n",
       "      <td>155</td>\n",
       "      <td>S3</td>\n",
       "      <td>L1</td>\n",
       "      <td>R2</td>\n",
       "      <td>2019-05-31</td>\n",
       "      <td>1</td>\n",
       "      <td>1</td>\n",
       "      <td>70</td>\n",
       "      <td>49162.41</td>\n",
       "      <td>0</td>\n",
       "    </tr>\n",
       "    <tr>\n",
       "      <th>T1188340</th>\n",
       "      <td>152</td>\n",
       "      <td>S2</td>\n",
       "      <td>L1</td>\n",
       "      <td>R1</td>\n",
       "      <td>2019-05-31</td>\n",
       "      <td>1</td>\n",
       "      <td>0</td>\n",
       "      <td>47</td>\n",
       "      <td>37977.00</td>\n",
       "      <td>0</td>\n",
       "    </tr>\n",
       "  </tbody>\n",
       "</table>\n",
       "<p>188340 rows × 10 columns</p>\n",
       "</div>"
      ],
      "text/plain": [
       "          Store_id Store_Type Location_Type Region_Code       Date  Holiday  \\\n",
       "ID                                                                            \n",
       "T1000001         1         S1            L3          R1 2018-01-01        1   \n",
       "T1000002       253         S4            L2          R1 2018-01-01        1   \n",
       "T1000003       252         S3            L2          R1 2018-01-01        1   \n",
       "T1000004       251         S2            L3          R1 2018-01-01        1   \n",
       "T1000005       250         S2            L3          R4 2018-01-01        1   \n",
       "...            ...        ...           ...         ...        ...      ...   \n",
       "T1188336       149         S2            L3          R2 2019-05-31        1   \n",
       "T1188337       153         S4            L2          R1 2019-05-31        1   \n",
       "T1188338       154         S1            L3          R2 2019-05-31        1   \n",
       "T1188339       155         S3            L1          R2 2019-05-31        1   \n",
       "T1188340       152         S2            L1          R1 2019-05-31        1   \n",
       "\n",
       "          Discount  #Order     Sales  weekend  \n",
       "ID                                             \n",
       "T1000001         1       9   7011.84        0  \n",
       "T1000002         1      60  51789.12        0  \n",
       "T1000003         1      42  36868.20        0  \n",
       "T1000004         1      23  19715.16        0  \n",
       "T1000005         1      62  45614.52        0  \n",
       "...            ...     ...       ...      ...  \n",
       "T1188336         1      51  37272.00        0  \n",
       "T1188337         0      90  54572.64        0  \n",
       "T1188338         0      56  31624.56        0  \n",
       "T1188339         1      70  49162.41        0  \n",
       "T1188340         0      47  37977.00        0  \n",
       "\n",
       "[188340 rows x 10 columns]"
      ]
     },
     "execution_count": 7,
     "metadata": {},
     "output_type": "execute_result"
    }
   ],
   "source": [
    "# int_bool_map = {0:False, 1:True}\n",
    "\n",
    "# train_data[\"Holiday\"] = train_data[\"Holiday\"].map(int_bool_map)\n",
    "# train_data[\"Discount\"] = train_data[\"Discount\"].map(int_bool_map)\n",
    "train_data"
   ]
  },
  {
   "cell_type": "code",
   "execution_count": 8,
   "metadata": {},
   "outputs": [],
   "source": [
    "import seaborn as sns\n",
    "import matplotlib.pyplot as plt\n",
    "%matplotlib inline\n",
    "\n",
    "num_fts = [x for x in test_data.select_dtypes(include=\"number\").columns]\n",
    "cat_fts = [x for x in test_data.select_dtypes(include=[\"bool\",\"category\"]).columns if x !=\"Store_id\"]\n",
    "\n",
    "\n",
    "target=\"Sales\"\n",
    "features=[x for x in test_data.columns if x not in target]"
   ]
  },
  {
   "cell_type": "code",
   "execution_count": 9,
   "metadata": {},
   "outputs": [],
   "source": [
    "# num_fts = [x for x in train_data.select_dtypes(include=\"number\").columns]\n",
    "# cat_fts = [x for x in train_data.select_dtypes(include=[\"bool\"]).columns]\n",
    "cat_fts2 = [x for x in train_data.select_dtypes(include=[\"bool\"]).columns]"
   ]
  },
  {
   "cell_type": "code",
   "execution_count": 10,
   "metadata": {},
   "outputs": [
    {
     "data": {
      "image/png": "[encoded data removed]",
      "text/plain": [
       "<Figure size 432x288 with 1 Axes>"
      ]
     },
     "metadata": {
      "needs_background": "light"
     },
     "output_type": "display_data"
    },
    {
     "data": {
      "image/png": "[encoded data removed]",
      "text/plain": [
       "<Figure size 432x288 with 1 Axes>"
      ]
     },
     "metadata": {
      "needs_background": "light"
     },
     "output_type": "display_data"
    },
    {
     "data": {
      "image/png": "[encoded data removed]",
      "text/plain": [
       "<Figure size 432x288 with 1 Axes>"
      ]
     },
     "metadata": {
      "needs_background": "light"
     },
     "output_type": "display_data"
    },
    {
     "data": {
      "image/png": "[encoded data removed]",
      "text/plain": [
       "<Figure size 432x288 with 1 Axes>"
      ]
     },
     "metadata": {
      "needs_background": "light"
     },
     "output_type": "display_data"
    },
    {
     "data": {
      "image/png": "[encoded data removed]",
      "text/plain": [
       "<Figure size 432x288 with 1 Axes>"
      ]
     },
     "metadata": {
      "needs_background": "light"
     },
     "output_type": "display_data"
    },
    {
     "data": {
      "image/png": "[encoded data removed]",
      "text/plain": [
       "<Figure size 432x288 with 1 Axes>"
      ]
     },
     "metadata": {
      "needs_background": "light"
     },
     "output_type": "display_data"
    },
    {
     "data": {
      "image/png": "[encoded data removed]",
      "text/plain": [
       "<Figure size 432x288 with 1 Axes>"
      ]
     },
     "metadata": {
      "needs_background": "light"
     },
     "output_type": "display_data"
    },
    {
     "data": {
      "image/png": "[encoded data removed]",
      "text/plain": [
       "<Figure size 432x288 with 1 Axes>"
      ]
     },
     "metadata": {
      "needs_background": "light"
     },
     "output_type": "display_data"
    }
   ],
   "source": [
    "for feature in features:\n",
    "    if feature in cat_fts2:\n",
    "        sns.histplot(train_data[feature].astype(\"int64\"))\n",
    "    else:\n",
    "        sns.histplot(train_data, x=feature)\n",
    "    plt.title(f\"Univariate analysis of {feature}\")\n",
    "    plt.show()"
   ]
  },
  {
   "cell_type": "code",
   "execution_count": 11,
   "metadata": {},
   "outputs": [],
   "source": [
    "categorical_fts = [x for x in train_data.select_dtypes(include=[\"bool\",\"object\"]).columns]"
   ]
  },
  {
   "cell_type": "code",
   "execution_count": 12,
   "metadata": {
    "scrolled": false
   },
   "outputs": [],
   "source": [
    "for ft in categorical_fts:\n",
    "    sns.scatterplot(data=train_data, x=ft, y=target, hue=ft)\n",
    "    plt.show()"
   ]
  },
  {
   "cell_type": "markdown",
   "metadata": {},
   "source": [
    "Sales are more if \n",
    "* Discount is given \n",
    "* That day is not a holiday\n",
    "* sales is done in R1 type region and L2 type location, S4 type store"
   ]
  },
  {
   "cell_type": "markdown",
   "metadata": {},
   "source": [
    "### Convert categorical features\n",
    "Convert categorical features to one_hot_encoding"
   ]
  },
  {
   "cell_type": "code",
   "execution_count": 13,
   "metadata": {},
   "outputs": [],
   "source": [
    "for ft in cat_fts:\n",
    "    dummy = pd.get_dummies(train_data[ft], prefix=f\"{ft[0]}{ft[ft.find('_')+1]}\", drop_first=True)\n",
    "    train_data = pd.merge(train_data, dummy, left_index=True, right_index=True).drop(ft,axis=1)"
   ]
  },
  {
   "cell_type": "code",
   "execution_count": 14,
   "metadata": {},
   "outputs": [],
   "source": [
    "for ft in cat_fts:\n",
    "    dummy = pd.get_dummies(test_data[ft], prefix=f\"{ft[0]}{ft[ft.find('_')+1]}\", drop_first=True)\n",
    "    test_data = pd.merge(test_data, dummy, left_index=True, right_index=True).drop(ft,axis=1)"
   ]
  },
  {
   "cell_type": "code",
   "execution_count": 15,
   "metadata": {},
   "outputs": [],
   "source": [
    "features = [x for x in test_data.select_dtypes(\"number\").columns]"
   ]
  },
  {
   "cell_type": "code",
   "execution_count": 16,
   "metadata": {},
   "outputs": [
    {
     "data": {
      "text/plain": [
       "Index(['Store_id', 'Holiday', 'Discount', 'weekend', 'ST_S2', 'ST_S3', 'ST_S4',\n",
       "       'LT_L2', 'LT_L3', 'LT_L4', 'LT_L5', 'RC_R2', 'RC_R3', 'RC_R4'],\n",
       "      dtype='object')"
      ]
     },
     "execution_count": 16,
     "metadata": {},
     "output_type": "execute_result"
    }
   ],
   "source": [
    "test_data.select_dtypes(\"number\").columns"
   ]
  },
  {
   "cell_type": "code",
   "execution_count": 17,
   "metadata": {},
   "outputs": [
    {
     "data": {
      "text/plain": [
       "'\\nfrom statsmodels.tsa.stattools import adfuller\\nX = train_data[[\"Sales\"]].values\\nresult = adfuller(X)\\nprint(\\'ADF Statistic: %f\\' % result[0])\\nprint(\\'p-value: %f\\' % result[1])\\nprint(\\'Critical Values:\\')\\nfor key, value in result[4].items():\\n\\tprint(\\'\\t%s: %.3f\\' % (key, value))\\n'"
      ]
     },
     "execution_count": 17,
     "metadata": {},
     "output_type": "execute_result"
    }
   ],
   "source": [
    "# sns.lineplot(train_data[\"Date\"], train_data[\"Sales\"], hue=\"ST_S2\")\n",
    "\"\"\"\n",
    "from statsmodels.tsa.stattools import adfuller\n",
    "X = train_data[[\"Sales\"]].values\n",
    "result = adfuller(X)\n",
    "print('ADF Statistic: %f' % result[0])\n",
    "print('p-value: %f' % result[1])\n",
    "print('Critical Values:')\n",
    "for key, value in result[4].items():\n",
    "\tprint('\\t%s: %.3f' % (key, value))\n",
    "\"\"\"\n",
    "# p value is approximately 0.0000 < 0.005 Hence we can deny the null hypothesis\n",
    "# This is non stationary based on the statistics test. "
   ]
  }
 ],
 "metadata": {
  "kernelspec": {
   "display_name": "Python 3",
   "language": "python",
   "name": "python3"
  },
  "language_info": {
   "codemirror_mode": {
    "name": "ipython",
    "version": 3
   },
   "file_extension": ".py",
   "mimetype": "text/x-python",
   "name": "python",
   "nbconvert_exporter": "python",
   "pygments_lexer": "ipython3",
   "version": "3.8.5"
  }
 },
 "nbformat": 4,
 "nbformat_minor": 5
}
